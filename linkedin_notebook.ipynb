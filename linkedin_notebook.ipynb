{
 "cells": [
  {
   "cell_type": "code",
   "execution_count": 1,
   "metadata": {},
   "outputs": [],
   "source": [
    "from selenium import webdriver"
   ]
  },
  {
   "cell_type": "code",
   "execution_count": 3,
   "metadata": {},
   "outputs": [],
   "source": [
    "import json, re, datetime, time, requests"
   ]
  },
  {
   "cell_type": "code",
   "execution_count": 4,
   "metadata": {},
   "outputs": [],
   "source": [
    "driver = webdriver.Chrome(executable_path='/Users/subrataroy/Downloads/chromedriver')"
   ]
  },
  {
   "cell_type": "code",
   "execution_count": 5,
   "metadata": {},
   "outputs": [],
   "source": [
    "driver.get('https://www.linkedin.com/')"
   ]
  },
  {
   "cell_type": "code",
   "execution_count": 7,
   "metadata": {},
   "outputs": [],
   "source": [
    "from keys import linkedin_email, linkedin_password"
   ]
  },
  {
   "cell_type": "code",
   "execution_count": 8,
   "metadata": {},
   "outputs": [],
   "source": [
    "email_input = driver.find_element_by_xpath('//*[@id=\"session_key\"]')\n",
    "email_input.send_keys(linkedin_email)"
   ]
  },
  {
   "cell_type": "code",
   "execution_count": 9,
   "metadata": {},
   "outputs": [],
   "source": [
    "password_input = driver.find_element_by_xpath('//*[@id=\"session_password\"]')\n",
    "password_input.send_keys(linkedin_password)"
   ]
  },
  {
   "cell_type": "code",
   "execution_count": 10,
   "metadata": {},
   "outputs": [],
   "source": [
    "login_button = driver.find_element_by_xpath('/html/body/main/section[1]/div[2]/form/button')\n",
    "login_button.click()"
   ]
  },
  {
   "cell_type": "code",
   "execution_count": 11,
   "metadata": {},
   "outputs": [],
   "source": [
    "skip = driver.find_element_by_xpath('//*[@id=\"ember510\"]/button[2]')\n",
    "skip.click()"
   ]
  },
  {
   "cell_type": "code",
   "execution_count": 14,
   "metadata": {},
   "outputs": [
    {
     "name": "stdout",
     "output_type": "stream",
     "text": [
      "['Feed post', 'Yoel Morad', '• 1st', 'Software Engineer, Full-Stack Developer.⠀⠀⠀ ⠀⠀⠀⠀ Problem Solver | Team Player | Love to Learn', '3d •', '3 days ago', 'GitHub recently released Github CLI. Goodbye, World and Hello, Terminal. Absolute game changer!', 'Fast cmd for the Mac Family: brew install gh', 'Link to GitHub CLI download: https://cli.github.com/', 'Link to CLI Repository: https://github.com/cli', 'Happy Coding! #softwareengineering #github', 'GitHub CLI', 'cli.github.com • 2 min read', '12', 'Like', 'Comment', 'Share', 'Send']\n"
     ]
    }
   ],
   "source": [
    "post_div = driver.find_element_by_xpath('//*[@id=\"ember668\"]').text\n",
    "post_list = post_div.split('\\n')\n",
    "print(post_list)"
   ]
  },
  {
   "cell_type": "code",
   "execution_count": 29,
   "metadata": {},
   "outputs": [
    {
     "name": "stdout",
     "output_type": "stream",
     "text": [
      "Yoel Morad\n",
      "Software Engineer, Full-Stack Developer.⠀⠀⠀ ⠀⠀⠀⠀ Problem Solver | Team Player | Love to Learn\n",
      "GitHub recently released Github CLI. Goodbye, World and Hello, Terminal. Absolute game changer! Fast cmd for the Mac Family: brew install gh Link to GitHub CLI download: https://cli.github.com/ Link to CLI Repository: https://github.com/cli Happy Coding! #softwareengineering #github\n",
      "12\n"
     ]
    }
   ],
   "source": [
    "name = post_list[1]\n",
    "print(name)\n",
    "user_details = post_list[3]\n",
    "print(user_details)\n",
    "description = \" \".join(post_list[6:11])\n",
    "print(description)\n",
    "likes = post_list[13]\n",
    "print(likes)"
   ]
  },
  {
   "cell_type": "code",
   "execution_count": 15,
   "metadata": {},
   "outputs": [],
   "source": [
    "import pymongo"
   ]
  },
  {
   "cell_type": "code",
   "execution_count": 16,
   "metadata": {},
   "outputs": [],
   "source": [
    "myclient = pymongo.MongoClient('mongodb://localhost:27017')"
   ]
  },
  {
   "cell_type": "code",
   "execution_count": 26,
   "metadata": {},
   "outputs": [],
   "source": [
    "mydb = myclient['jupyter_notebook']\n",
    "linkedin_collection = mydb['linkedin_post']"
   ]
  },
  {
   "cell_type": "code",
   "execution_count": 36,
   "metadata": {},
   "outputs": [
    {
     "data": {
      "text/plain": [
       "<pymongo.results.InsertOneResult at 0x1054537c0>"
      ]
     },
     "execution_count": 36,
     "metadata": {},
     "output_type": "execute_result"
    }
   ],
   "source": [
    "linkedin_collection.insert_one({\n",
    "    \"name\": name,\n",
    "    \"user_details\": user_details,\n",
    "    \"description\": description,\n",
    "    \"likes\": likes\n",
    "})"
   ]
  },
  {
   "cell_type": "code",
   "execution_count": 37,
   "metadata": {},
   "outputs": [
    {
     "data": {
      "text/plain": [
       "{'_id': ObjectId('5f699710d03b0beda0b3b3d0'),\n",
       " 'name': 'Yoel Morad',\n",
       " 'user_details': 'Software Engineer, Full-Stack Developer.⠀⠀⠀ ⠀⠀⠀⠀ Problem Solver | Team Player | Love to Learn',\n",
       " 'description': 'GitHub recently released Github CLI. Goodbye, World and Hello, Terminal. Absolute game changer! Fast cmd for the Mac Family: brew install gh Link to GitHub CLI download: https://cli.github.com/ Link to CLI Repository: https://github.com/cli Happy Coding! #softwareengineering #github',\n",
       " 'likes': '12'}"
      ]
     },
     "execution_count": 37,
     "metadata": {},
     "output_type": "execute_result"
    }
   ],
   "source": [
    "linkedin_collection.find_one()"
   ]
  },
  {
   "cell_type": "code",
   "execution_count": null,
   "metadata": {},
   "outputs": [],
   "source": []
  }
 ],
 "metadata": {
  "kernelspec": {
   "display_name": "Python 3",
   "language": "python",
   "name": "python3"
  },
  "language_info": {
   "codemirror_mode": {
    "name": "ipython",
    "version": 3
   },
   "file_extension": ".py",
   "mimetype": "text/x-python",
   "name": "python",
   "nbconvert_exporter": "python",
   "pygments_lexer": "ipython3",
   "version": "3.8.5"
  }
 },
 "nbformat": 4,
 "nbformat_minor": 4
}
