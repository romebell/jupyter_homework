{
 "cells": [
  {
   "cell_type": "code",
   "execution_count": 1,
   "metadata": {},
   "outputs": [
    {
     "name": "stdout",
     "output_type": "stream",
     "text": [
      "[3, 78, 23, 466, 324, 2, 12, 546, 17, 56, 23, 123, 343, 87, 94, 45, 6, 9, 234, 36]\n"
     ]
    }
   ],
   "source": [
    "# Python Quick Sort Algorithm\n",
    "nums = [3, 78, 23, 466, 324, 2, 12, 546, 17, 56, 23, 123, 343, 87, 94, 45, 6, 9, 234, 36]\n",
    "# print(nums)"
   ]
  },
  {
   "cell_type": "code",
   "execution_count": 12,
   "metadata": {},
   "outputs": [],
   "source": [
    "def quick_sort(ls):\n",
    "    # Base case\n",
    "    if len(ls) <= 1:\n",
    "        return ls\n",
    "    pivot = ls.pop() # 9\n",
    "    left = [x for x in ls if x <= pivot]\n",
    "    # left = [3, 2]\n",
    "    right = [y for y in ls if y > pivot]\n",
    "    # right = [23, 12, 17, 23]\n",
    "    left_sorted = quick_sort(left)\n",
    "    right_sorted = quick_sort(right)\n",
    "    print('Result', left_sorted + [pivot] + right_sorted)\n",
    "    return left_sorted + [pivot] + right_sorted\n",
    "# quick_sort(nums) just to test that result left sorted and right sorted were printing"
   ]
  },
  {
   "cell_type": "code",
   "execution_count": 13,
   "metadata": {},
   "outputs": [
    {
     "name": "stdout",
     "output_type": "stream",
     "text": [
      "Result [2, 3]\n",
      "Result [2, 3, 6]\n",
      "Result [12, 17, 23]\n",
      "Result [12, 17, 23, 23]\n",
      "Result [56, 78]\n",
      "Result [56, 78, 87]\n",
      "Result [56, 78, 87, 94, 123]\n",
      "Result [12, 17, 23, 23, 45, 56, 78, 87, 94, 123]\n",
      "Result [2, 3, 6, 9, 12, 17, 23, 23, 45, 56, 78, 87, 94, 123]\n",
      "Result [466, 546]\n",
      "Result [324, 343, 466, 546]\n",
      "Result [2, 3, 6, 9, 12, 17, 23, 23, 45, 56, 78, 87, 94, 123, 234, 324, 343, 466, 546]\n"
     ]
    },
    {
     "data": {
      "text/plain": [
       "[2, 3, 6, 9, 12, 17, 23, 23, 45, 56, 78, 87, 94, 123, 234, 324, 343, 466, 546]"
      ]
     },
     "execution_count": 13,
     "metadata": {},
     "output_type": "execute_result"
    }
   ],
   "source": [
    "quick_sort(nums)"
   ]
  },
  {
   "cell_type": "code",
   "execution_count": null,
   "metadata": {},
   "outputs": [],
   "source": []
  }
 ],
 "metadata": {
  "kernelspec": {
   "display_name": "Python 3",
   "language": "python",
   "name": "python3"
  },
  "language_info": {
   "codemirror_mode": {
    "name": "ipython",
    "version": 3
   },
   "file_extension": ".py",
   "mimetype": "text/x-python",
   "name": "python",
   "nbconvert_exporter": "python",
   "pygments_lexer": "ipython3",
   "version": "3.8.5"
  }
 },
 "nbformat": 4,
 "nbformat_minor": 4
}
