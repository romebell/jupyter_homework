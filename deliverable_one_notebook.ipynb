{
 "cells": [
  {
   "cell_type": "code",
   "execution_count": 1,
   "metadata": {},
   "outputs": [
    {
     "name": "stdout",
     "output_type": "stream",
     "text": [
      "[3, 78, 23, 466, 324, 2, 12, 546, 17, 56, 23, 123, 343, 87, 94, 45, 6, 9, 234, 36]\n"
     ]
    }
   ],
   "source": [
    "# Python Quick Sort Algorithm\n",
    "nums = [3, 78, 23, 466, 324, 2, 12, 546, 17, 56, 23, 123, 343, 87, 94, 45, 6, 9, 234, 36]\n",
    "# print(nums)"
   ]
  },
  {
   "cell_type": "code",
   "execution_count": 11,
   "metadata": {},
   "outputs": [
    {
     "name": "stdout",
     "output_type": "stream",
     "text": [
      "Result [2, 3]\n",
      "Result [2, 3, 6]\n",
      "Result [12, 17, 23]\n",
      "Result [12, 17, 23, 23]\n",
      "Result [2, 3, 6, 9, 12, 17, 23, 23]\n",
      "Result [56, 78]\n",
      "Result [56, 78, 87]\n",
      "Result [56, 78, 87, 94, 123]\n",
      "Result [45, 56, 78, 87, 94, 123]\n",
      "Result [466, 546]\n",
      "Result [324, 343, 466, 546]\n",
      "Result [45, 56, 78, 87, 94, 123, 234, 324, 343, 466, 546]\n",
      "Result [2, 3, 6, 9, 12, 17, 23, 23, 36, 45, 56, 78, 87, 94, 123, 234, 324, 343, 466, 546]\n"
     ]
    },
    {
     "data": {
      "text/plain": [
       "[2,\n",
       " 3,\n",
       " 6,\n",
       " 9,\n",
       " 12,\n",
       " 17,\n",
       " 23,\n",
       " 23,\n",
       " 36,\n",
       " 45,\n",
       " 56,\n",
       " 78,\n",
       " 87,\n",
       " 94,\n",
       " 123,\n",
       " 234,\n",
       " 324,\n",
       " 343,\n",
       " 466,\n",
       " 546]"
      ]
     },
     "execution_count": 11,
     "metadata": {},
     "output_type": "execute_result"
    }
   ],
   "source": [
    "def quick_sort(ls):\n",
    "    # Base case\n",
    "    if len(ls) <= 1:\n",
    "        return ls\n",
    "    pivot = ls.pop() # 9\n",
    "    left = [x for x in ls if x <= pivot]\n",
    "    # left = [3, 2]\n",
    "    right = [y for y in ls if y > pivot]\n",
    "    # right = [23, 12, 17, 23]\n",
    "    left_sorted = quick_sort(left)\n",
    "    right_sorted = quick_sort(right)\n",
    "    print('Result', left_sorted + [pivot] + right_sorted)\n",
    "    return left_sorted + [pivot] + right_sorted\n",
    "# quick_sort(nums) just to t"
   ]
  },
  {
   "cell_type": "code",
   "execution_count": null,
   "metadata": {},
   "outputs": [],
   "source": []
  }
 ],
 "metadata": {
  "kernelspec": {
   "display_name": "Python 3",
   "language": "python",
   "name": "python3"
  },
  "language_info": {
   "codemirror_mode": {
    "name": "ipython",
    "version": 3
   },
   "file_extension": ".py",
   "mimetype": "text/x-python",
   "name": "python",
   "nbconvert_exporter": "python",
   "pygments_lexer": "ipython3",
   "version": "3.8.5"
  }
 },
 "nbformat": 4,
 "nbformat_minor": 4
}
