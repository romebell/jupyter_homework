{
 "cells": [
  {
   "cell_type": "code",
   "execution_count": 1,
   "metadata": {},
   "outputs": [
    {
     "name": "stdout",
     "output_type": "stream",
     "text": [
      "[3, 78, 23, 466, 324, 2, 12, 546, 17, 56, 23, 123, 343, 87, 94, 45, 6, 9, 234, 36]\n"
     ]
    }
   ],
   "source": [
    "# Python Merge Sort Algorithm\n",
    "nums = [3, 78, 23, 466, 324, 2, 12, 546, 17, 56, 23, 123, 343, 87, 94, 45, 6, 9, 234, 36]\n",
    "print(nums)"
   ]
  },
  {
   "cell_type": "code",
   "execution_count": 4,
   "metadata": {},
   "outputs": [],
   "source": [
    "def merge_sort(ls):\n",
    "    # Base Case\n",
    "    if len(ls) <= 1:\n",
    "        return ls\n",
    "    # Recursive Case\n",
    "    # 1. Find the midpoint of the list\n",
    "    mid = len(ls) // 2 # // is for integer division\n",
    "    # 2. Divide the list in half\n",
    "    left = ls[:mid] # :mid is shorthand for 0:mid\n",
    "    print('left list: ', left)\n",
    "    right = ls[mid:] # mid: is shorthand for mid - end of the list\n",
    "    print('right list: ', right)\n",
    "    # 3. Sort each side\n",
    "    left_sorted = merge_sort(left)\n",
    "    right_sorted = merge_sort(right)\n",
    "    # 4. Merge the two lists back together\n",
    "    return merge(left_sorted, right_sorted)"
   ]
  },
  {
   "cell_type": "code",
   "execution_count": 5,
   "metadata": {},
   "outputs": [
    {
     "name": "stdout",
     "output_type": "stream",
     "text": [
      "left list:  [3, 78, 23, 466, 324, 2, 12, 546, 17, 56]\n",
      "right list:  [23, 123, 343, 87, 94, 45, 6, 9, 234, 36]\n",
      "left list:  [3, 78, 23, 466, 324]\n",
      "right list:  [2, 12, 546, 17, 56]\n",
      "left list:  [3, 78]\n",
      "right list:  [23, 466, 324]\n",
      "left list:  [3]\n",
      "right list:  [78]\n",
      "ls1:  [3]\n",
      "ls2:  [78]\n",
      "Sorted List:  [3, 78]\n",
      "left list:  [23]\n",
      "right list:  [466, 324]\n",
      "left list:  [466]\n",
      "right list:  [324]\n",
      "ls1:  [466]\n",
      "ls2:  [324]\n",
      "Sorted List:  [324, 466]\n",
      "ls1:  [23]\n",
      "ls2:  [324, 466]\n",
      "Sorted List:  [23, 324, 466]\n",
      "ls1:  [3, 78]\n",
      "ls2:  [23, 324, 466]\n",
      "Sorted List:  [3, 23, 78, 324, 466]\n",
      "left list:  [2, 12]\n",
      "right list:  [546, 17, 56]\n",
      "left list:  [2]\n",
      "right list:  [12]\n",
      "ls1:  [2]\n",
      "ls2:  [12]\n",
      "Sorted List:  [2, 12]\n",
      "left list:  [546]\n",
      "right list:  [17, 56]\n",
      "left list:  [17]\n",
      "right list:  [56]\n",
      "ls1:  [17]\n",
      "ls2:  [56]\n",
      "Sorted List:  [17, 56]\n",
      "ls1:  [546]\n",
      "ls2:  [17, 56]\n",
      "Sorted List:  [17, 56, 546]\n",
      "ls1:  [2, 12]\n",
      "ls2:  [17, 56, 546]\n",
      "Sorted List:  [2, 12, 17, 56, 546]\n",
      "ls1:  [3, 23, 78, 324, 466]\n",
      "ls2:  [2, 12, 17, 56, 546]\n",
      "Sorted List:  [2, 3, 12, 17, 23, 56, 78, 324, 466, 546]\n",
      "left list:  [23, 123, 343, 87, 94]\n",
      "right list:  [45, 6, 9, 234, 36]\n",
      "left list:  [23, 123]\n",
      "right list:  [343, 87, 94]\n",
      "left list:  [23]\n",
      "right list:  [123]\n",
      "ls1:  [23]\n",
      "ls2:  [123]\n",
      "Sorted List:  [23, 123]\n",
      "left list:  [343]\n",
      "right list:  [87, 94]\n",
      "left list:  [87]\n",
      "right list:  [94]\n",
      "ls1:  [87]\n",
      "ls2:  [94]\n",
      "Sorted List:  [87, 94]\n",
      "ls1:  [343]\n",
      "ls2:  [87, 94]\n",
      "Sorted List:  [87, 94, 343]\n",
      "ls1:  [23, 123]\n",
      "ls2:  [87, 94, 343]\n",
      "Sorted List:  [23, 87, 94, 123, 343]\n",
      "left list:  [45, 6]\n",
      "right list:  [9, 234, 36]\n",
      "left list:  [45]\n",
      "right list:  [6]\n",
      "ls1:  [45]\n",
      "ls2:  [6]\n",
      "Sorted List:  [6, 45]\n",
      "left list:  [9]\n",
      "right list:  [234, 36]\n",
      "left list:  [234]\n",
      "right list:  [36]\n",
      "ls1:  [234]\n",
      "ls2:  [36]\n",
      "Sorted List:  [36, 234]\n",
      "ls1:  [9]\n",
      "ls2:  [36, 234]\n",
      "Sorted List:  [9, 36, 234]\n",
      "ls1:  [6, 45]\n",
      "ls2:  [9, 36, 234]\n",
      "Sorted List:  [6, 9, 36, 45, 234]\n",
      "ls1:  [23, 87, 94, 123, 343]\n",
      "ls2:  [6, 9, 36, 45, 234]\n",
      "Sorted List:  [6, 9, 23, 36, 45, 87, 94, 123, 234, 343]\n",
      "ls1:  [2, 3, 12, 17, 23, 56, 78, 324, 466, 546]\n",
      "ls2:  [6, 9, 23, 36, 45, 87, 94, 123, 234, 343]\n",
      "Sorted List:  [2, 3, 6, 9, 12, 17, 23, 23, 36, 45, 56, 78, 87, 94, 123, 234, 324, 343, 466, 546]\n"
     ]
    },
    {
     "data": {
      "text/plain": [
       "[2,\n",
       " 3,\n",
       " 6,\n",
       " 9,\n",
       " 12,\n",
       " 17,\n",
       " 23,\n",
       " 23,\n",
       " 36,\n",
       " 45,\n",
       " 56,\n",
       " 78,\n",
       " 87,\n",
       " 94,\n",
       " 123,\n",
       " 234,\n",
       " 324,\n",
       " 343,\n",
       " 466,\n",
       " 546]"
      ]
     },
     "execution_count": 5,
     "metadata": {},
     "output_type": "execute_result"
    }
   ],
   "source": [
    "# O(n) - combines two sorted lists into one sorted list\n",
    "def merge(ls1, ls2):\n",
    "    print('ls1: ', ls1)\n",
    "    print('ls2: ', ls2)\n",
    "    sort = []\n",
    "    while len(ls1) and len(ls2):\n",
    "        if ls1[0] > ls2[0]:\n",
    "            sort.append(ls2.pop(0))\n",
    "        else:\n",
    "            sort.append(ls1.pop(0))\n",
    "    sort = sort + ls1 + ls2\n",
    "    print('Sorted List: ', sort)\n",
    "    return (sort)\n",
    "merge_sort(nums)"
   ]
  },
  {
   "cell_type": "code",
   "execution_count": null,
   "metadata": {},
   "outputs": [],
   "source": []
  }
 ],
 "metadata": {
  "kernelspec": {
   "display_name": "Python 3",
   "language": "python",
   "name": "python3"
  },
  "language_info": {
   "codemirror_mode": {
    "name": "ipython",
    "version": 3
   },
   "file_extension": ".py",
   "mimetype": "text/x-python",
   "name": "python",
   "nbconvert_exporter": "python",
   "pygments_lexer": "ipython3",
   "version": "3.8.5"
  }
 },
 "nbformat": 4,
 "nbformat_minor": 4
}
