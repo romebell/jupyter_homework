{
 "cells": [
  {
   "cell_type": "markdown",
   "metadata": {},
   "source": [
    " Use the `input()` function to prompt a user to enter something.\n",
    " input() always returns a string value. If you ever want someone\n",
    " to enter a number you have to use the `int()` function to convert\n",
    " what they typed in to a string."
   ]
  },
  {
   "cell_type": "code",
   "execution_count": null,
   "metadata": {},
   "outputs": [],
   "source": [
    "# define a calculator function\n",
    "def calculator():\n",
    "#     make input to ask user what operation and number to solve\n",
    "    calc = input('What operation would you like to do? (add, sub, mult, div)\\n')\n",
    "    num1 = input('Your first number\\n')\n",
    "    num2 = input('Your second number\\n')\n",
    "    if calc == 'add':\n",
    "        result = int(num1) + int(num2)\n",
    "    elif calc == 'sub':\n",
    "        result = int(num1) - int(num2)\n",
    "    elif calc == 'mult':\n",
    "        result = int(num1) * int(num2)\n",
    "    elif calc == 'div':\n",
    "        result = int(num1) / int(num2)\n",
    "    return result\n",
    "print(calculator())"
   ]
  },
  {
   "cell_type": "code",
   "execution_count": null,
   "metadata": {},
   "outputs": [],
   "source": [
    "    "
   ]
  }
 ],
 "metadata": {
  "kernelspec": {
   "display_name": "Python 3",
   "language": "python",
   "name": "python3"
  },
  "language_info": {
   "codemirror_mode": {
    "name": "ipython",
    "version": 3
   },
   "file_extension": ".py",
   "mimetype": "text/x-python",
   "name": "python",
   "nbconvert_exporter": "python",
   "pygments_lexer": "ipython3",
   "version": "3.8.5"
  }
 },
 "nbformat": 4,
 "nbformat_minor": 4
}
