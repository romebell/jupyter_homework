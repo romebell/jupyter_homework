{
 "cells": [
  {
   "cell_type": "code",
   "execution_count": 44,
   "metadata": {},
   "outputs": [],
   "source": [
    "from selenium import webdriver"
   ]
  },
  {
   "cell_type": "code",
   "execution_count": 15,
   "metadata": {},
   "outputs": [],
   "source": [
    "import json, re, datetime, time, requests"
   ]
  },
  {
   "cell_type": "code",
   "execution_count": 16,
   "metadata": {},
   "outputs": [],
   "source": [
    "driver = webdriver.Chrome(executable_path='/Users/subrataroy/Downloads/chromedriver')"
   ]
  },
  {
   "cell_type": "code",
   "execution_count": 17,
   "metadata": {},
   "outputs": [],
   "source": [
    "driver.get('https://www.facebook.com/')"
   ]
  },
  {
   "cell_type": "code",
   "execution_count": 18,
   "metadata": {},
   "outputs": [],
   "source": [
    "from keys import instagram_username, instagram_password"
   ]
  },
  {
   "cell_type": "code",
   "execution_count": 19,
   "metadata": {},
   "outputs": [],
   "source": [
    "username = driver.find_element_by_xpath('//*[@id=\"email\"]')\n",
    "username.send_keys(instagram_username)"
   ]
  },
  {
   "cell_type": "code",
   "execution_count": 20,
   "metadata": {},
   "outputs": [],
   "source": [
    "password_input = driver.find_element_by_xpath('//*[@id=\"pass\"]')\n",
    "password_input.send_keys(instagram_password)"
   ]
  },
  {
   "cell_type": "code",
   "execution_count": 21,
   "metadata": {},
   "outputs": [],
   "source": [
    "login_button = driver.find_element_by_xpath('//*[@id=\"u_0_b\"]')\n",
    "login_button.click()"
   ]
  },
  {
   "cell_type": "code",
   "execution_count": 23,
   "metadata": {},
   "outputs": [
    {
     "name": "stdout",
     "output_type": "stream",
     "text": [
      "Suggested for You\n",
      "WSB-TV \n",
      "Y\n",
      "l\n",
      "e\n",
      "s\n",
      "s\n",
      "t\n",
      "S\n",
      "e\n",
      "t\n",
      "d\n",
      "u\n",
      "o\n",
      "g\n",
      "e\n",
      "h\n",
      "n\n",
      "r\n",
      "p\n",
      "o\n",
      "l\n",
      "day \n",
      "n\n",
      "l\n",
      "a\n",
      "i\n",
      "s\n",
      "t\n",
      "n\n",
      "u\n",
      "s\n",
      "g\n",
      "f\n",
      " o\n",
      "3\n",
      "r\n",
      "e\n",
      ":3\n",
      "e\n",
      "l\n",
      "a\n",
      "0 PM\n",
      "t\n",
      "d\n",
      "  ·\n",
      "Researchers at the European Space Agency and the Japanese Space Agency just happen to already have spacecraft en route to Earth’s planetary neighbor.\n",
      "WSBTV.COM\n",
      "Scientists spot what appear to be possible signs of life on Venus\n",
      "-\n",
      "491\n",
      "491\n",
      "158 Comments\n",
      "272 Shares\n",
      "Like\n",
      "Comment\n",
      "Share\n"
     ]
    }
   ],
   "source": [
    "post_div = driver.find_element_by_xpath('//*[@id=\"mount_0_0\"]/div/div[1]/div[1]/div[3]/div/div/div[1]/div[1]/div/div[2]/div/div/div[3]/div/div[4]/div/div[60]/div/div/div/div/div/div/div/div/div/div/div[2]/div').text\n",
    "print(post_div)"
   ]
  },
  {
   "cell_type": "code",
   "execution_count": 25,
   "metadata": {},
   "outputs": [
    {
     "name": "stdout",
     "output_type": "stream",
     "text": [
      "['Suggested for You', 'WSB-TV ', 'Y', 'l', 'e', 's', 's', 't', 'S', 'e', 't', 'd', 'u', 'o', 'g', 'e', 'h', 'n', 'r', 'p', 'o', 'l', 'day ', 'n', 'l', 'a', 'i', 's', 't', 'n', 'u', 's', 'g', 'f', ' o', '3', 'r', 'e', ':3', 'e', 'l', 'a', '0 PM', 't', 'd', '  ·', 'Researchers at the European Space Agency and the Japanese Space Agency just happen to already have spacecraft en route to Earth’s planetary neighbor.', 'WSBTV.COM', 'Scientists spot what appear to be possible signs of life on Venus', '-', '491', '491', '158 Comments', '272 Shares', 'Like', 'Comment', 'Share']\n"
     ]
    }
   ],
   "source": [
    "post_list = post_div.split('\\n')\n",
    "print(post_list)"
   ]
  },
  {
   "cell_type": "code",
   "execution_count": 55,
   "metadata": {},
   "outputs": [
    {
     "name": "stdout",
     "output_type": "stream",
     "text": [
      "WSB-TV \n",
      "Researchers at the European Space Agency and the Japanese Space Agency just happen to already have spacecraft en route to Earth’s planetary neighbor.\n",
      "Scientists spot what appear to be possible signs of life on Venus\n",
      "491\n",
      "158 Comments\n",
      "272 Shares\n"
     ]
    }
   ],
   "source": [
    "name = post_list[1]\n",
    "print(name)\n",
    "description = post_list[-11]\n",
    "print(description)\n",
    "image_description = post_list[-9]\n",
    "print(image_description)\n",
    "likes = post_list[-7]\n",
    "print(likes)\n",
    "comments = post_list[-5]\n",
    "print(comments)\n",
    "shares = post_list[-4]\n",
    "print(shares)"
   ]
  },
  {
   "cell_type": "code",
   "execution_count": 53,
   "metadata": {},
   "outputs": [
    {
     "name": "stdout",
     "output_type": "stream",
     "text": [
      "<selenium.webdriver.remote.webelement.WebElement (session=\"a7869d3047a4185cb920ec4ba20fd89a\", element=\"8161c91c-77b7-4b38-8142-8cc775e478ac\")>\n"
     ]
    }
   ],
   "source": [
    "post_image = driver.find_element_by_xpath('//*[@id=\"jsc_c_164\"]/div[1]/div[1]/div/div/a/div[1]/div/div/div/img[starts-with(@src,\"https\")]')\n",
    "print(post_image)\n",
    "\n",
    "# not printing image url"
   ]
  },
  {
   "cell_type": "code",
   "execution_count": 26,
   "metadata": {},
   "outputs": [],
   "source": [
    "import pymongo"
   ]
  },
  {
   "cell_type": "code",
   "execution_count": 27,
   "metadata": {},
   "outputs": [],
   "source": [
    "myclient = pymongo.MongoClient('mongodb://localhost:27017/')"
   ]
  },
  {
   "cell_type": "code",
   "execution_count": 29,
   "metadata": {},
   "outputs": [],
   "source": [
    "mydb = myclient['jupyter_notebook']"
   ]
  },
  {
   "cell_type": "code",
   "execution_count": 30,
   "metadata": {},
   "outputs": [],
   "source": [
    "facebook_post = mydb['facebook_post'] "
   ]
  },
  {
   "cell_type": "code",
   "execution_count": 56,
   "metadata": {},
   "outputs": [],
   "source": [
    "data = {\n",
    "    \"name\": name,\n",
    "    \"description\": description,\n",
    "    \"image_url\": \"null\",\n",
    "    \"image_description\": image_description,\n",
    "    \"likes\": likes,\n",
    "    \"comments\": comments,\n",
    "    \"shares\": shares\n",
    "}"
   ]
  },
  {
   "cell_type": "code",
   "execution_count": 57,
   "metadata": {},
   "outputs": [
    {
     "data": {
      "text/plain": [
       "<pymongo.results.InsertOneResult at 0x10afa9f40>"
      ]
     },
     "execution_count": 57,
     "metadata": {},
     "output_type": "execute_result"
    }
   ],
   "source": [
    "facebook_post.insert_one(data)"
   ]
  },
  {
   "cell_type": "code",
   "execution_count": 62,
   "metadata": {},
   "outputs": [
    {
     "name": "stdout",
     "output_type": "stream",
     "text": [
      "{'_id': ObjectId('5f69884072e754820aab9863'), 'name': 'WSB-TV ', 'description': 'Researchers at the European Space Agency and the Japanese Space Agency just happen to already have spacecraft en route to Earth’s planetary neighbor.', 'image_url': 'null', 'image_description': 'Scientists spot what appear to be possible signs of life on Venus', 'likes': '491', 'comments': '158 Comments', 'shares': '272 Shares'}\n"
     ]
    }
   ],
   "source": [
    "print(facebook_post.find_one())"
   ]
  },
  {
   "cell_type": "code",
   "execution_count": null,
   "metadata": {},
   "outputs": [],
   "source": []
  }
 ],
 "metadata": {
  "kernelspec": {
   "display_name": "Python 3",
   "language": "python",
   "name": "python3"
  },
  "language_info": {
   "codemirror_mode": {
    "name": "ipython",
    "version": 3
   },
   "file_extension": ".py",
   "mimetype": "text/x-python",
   "name": "python",
   "nbconvert_exporter": "python",
   "pygments_lexer": "ipython3",
   "version": "3.8.5"
  }
 },
 "nbformat": 4,
 "nbformat_minor": 4
}
