{
 "cells": [
  {
   "cell_type": "code",
   "execution_count": null,
   "metadata": {},
   "outputs": [
    {
     "name": "stdout",
     "output_type": "stream",
     "text": [
      "Welcome to Hangman\n",
      " \n",
      "______\n",
      "\n",
      "\n"
     ]
    }
   ],
   "source": [
    "import random\n",
    "words_list = ['github', 'general assembly', 'rome bell', 'software engineering', 'instagram', 'python', 'coding']\n",
    "\n",
    "def get_random_word():\n",
    "    word = random.choice(words_list)\n",
    "    return word\n",
    "\n",
    "def play(word):\n",
    "    word_completion = \"_\" * len(word)\n",
    "    guessed = False\n",
    "    guessed_letters = []\n",
    "    guessed_words = []\n",
    "    tries = 6\n",
    "    print(\"Welcome to Hangman\")\n",
    "    print(hangman(tries))\n",
    "    print(word_completion)\n",
    "    print(\"\\n\")\n",
    "    \n",
    "    while not guessed and tries > 0:\n",
    "        guess = input(\"Please guess a letter: \")\n",
    "\n",
    "        if len(guess) == 1:\n",
    "            if guess in guessed_letters:\n",
    "                print(\"You already tried that letter.\", guess)\n",
    "            elif guess not in word:\n",
    "                print(guess, \"is not in the word.\")\n",
    "                tries -= 1\n",
    "                guessed_letters.append(guess)\n",
    "            else:\n",
    "                print(guess, \"is in the word!\")\n",
    "                guessed_letters.append(guess)\n",
    "                word_as_list = list(word_completion)\n",
    "                indices = [i for i, letter in enumerate(word) if letter == guess]\n",
    "                for index in indices:\n",
    "                    word_as_list[index] = guess\n",
    "                word_completion = \"\".join(word_as_list)\n",
    "                if \"_\" not in word_completion:\n",
    "                    guess == True\n",
    "                    \n",
    "        elif len(guess) == len(word):\n",
    "            if guess in guessed_words:\n",
    "                print(\"You already guessed the word\", guess)\n",
    "            elif guess != word:\n",
    "                print(guess, \"is not the word.\")\n",
    "                tries -= 1\n",
    "                guessed_words.append(guess)\n",
    "            else: \n",
    "                guessed = True\n",
    "                word_completion = word\n",
    "\n",
    "        print(hangman(tries))\n",
    "        print(word_completion)\n",
    "        print(\"\\n\")\n",
    "\n",
    "    if guessed:\n",
    "        print(\"Congrats, you win!\")\n",
    "    else:\n",
    "        print(\"You failed, try playing again\")\n",
    "\n",
    "def hangman(tries):\n",
    "    stages = [\n",
    "        \"-o-|-<\",\n",
    "        \"-o-|-\",\n",
    "        \"-o-|\",\n",
    "        \"-o-\",\n",
    "        \"-o\",\n",
    "        \"-\",\n",
    "        \" \"\n",
    "    ]\n",
    "    return stages[tries]\n",
    "\n",
    "def main():\n",
    "    word = get_random_word()\n",
    "    play(word)\n",
    "\n",
    "if __name__ == \"__main__\":\n",
    "    main()"
   ]
  },
  {
   "cell_type": "code",
   "execution_count": null,
   "metadata": {},
   "outputs": [],
   "source": []
  }
 ],
 "metadata": {
  "kernelspec": {
   "display_name": "Python 3",
   "language": "python",
   "name": "python3"
  },
  "language_info": {
   "codemirror_mode": {
    "name": "ipython",
    "version": 3
   },
   "file_extension": ".py",
   "mimetype": "text/x-python",
   "name": "python",
   "nbconvert_exporter": "python",
   "pygments_lexer": "ipython3",
   "version": "3.8.5"
  }
 },
 "nbformat": 4,
 "nbformat_minor": 4
}
