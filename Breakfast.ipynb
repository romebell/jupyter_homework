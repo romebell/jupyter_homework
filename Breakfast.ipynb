{
 "cells": [
  {
   "cell_type": "code",
   "execution_count": 1,
   "metadata": {},
   "outputs": [],
   "source": [
    "class PancakePlate():\n",
    "    def __init__(self, amount, type):\n",
    "        self.pancake_stack = amount\n",
    "        self.pancake_type = type\n",
    "        self.is_amazing = False\n",
    "\n",
    "    def eat(self, amount):\n",
    "        self.pancake_stack -= amount\n",
    "\n",
    "    def addPancakes(self, amount, type):\n",
    "        self.pancake_stack += amount\n",
    "        self.pancake_type = type\n",
    "\n",
    "    def addSyrup(self):\n",
    "        self.is_amazing = True"
   ]
  },
  {
   "cell_type": "code",
   "execution_count": 3,
   "metadata": {},
   "outputs": [],
   "source": [
    "anthony_plate = PancakePlate(10, \"chocolate_chip\")"
   ]
  },
  {
   "cell_type": "code",
   "execution_count": 5,
   "metadata": {},
   "outputs": [
    {
     "name": "stdout",
     "output_type": "stream",
     "text": [
      "10\n"
     ]
    }
   ],
   "source": [
    "print(anthony_plate.pancake_stack)"
   ]
  },
  {
   "cell_type": "code",
   "execution_count": 6,
   "metadata": {},
   "outputs": [],
   "source": [
    "class CoffeeCup():\n",
    "    def __init__(self, capacity):\n",
    "        self.capacity = capacity\n",
    "        self.amount = 0\n",
    "\n",
    "    def fill(self):\n",
    "        self.amount = self.capacity\n",
    "\n",
    "    def empty(self):\n",
    "        self.amount = 0\n",
    "\n",
    "    def drink(self, amount):\n",
    "        self.amount -= amount\n",
    "        if (self.amount <= 0):\n",
    "            self.amount = 0\n",
    "            print(\"Coffee cup is now empty\")"
   ]
  },
  {
   "cell_type": "code",
   "execution_count": 7,
   "metadata": {},
   "outputs": [],
   "source": [
    "anthony_cup = CoffeeCup(10)"
   ]
  },
  {
   "cell_type": "code",
   "execution_count": 8,
   "metadata": {},
   "outputs": [],
   "source": [
    "anthony_cup.fill()"
   ]
  },
  {
   "cell_type": "code",
   "execution_count": 9,
   "metadata": {},
   "outputs": [],
   "source": [
    "anthony_cup.drink(3)"
   ]
  },
  {
   "cell_type": "code",
   "execution_count": 10,
   "metadata": {},
   "outputs": [
    {
     "name": "stdout",
     "output_type": "stream",
     "text": [
      "7\n"
     ]
    }
   ],
   "source": [
    "print(anthony_cup.amount)"
   ]
  },
  {
   "cell_type": "code",
   "execution_count": null,
   "metadata": {},
   "outputs": [],
   "source": []
  }
 ],
 "metadata": {
  "kernelspec": {
   "display_name": "Python 3",
   "language": "python",
   "name": "python3"
  },
  "language_info": {
   "codemirror_mode": {
    "name": "ipython",
    "version": 3
   },
   "file_extension": ".py",
   "mimetype": "text/x-python",
   "name": "python",
   "nbconvert_exporter": "python",
   "pygments_lexer": "ipython3",
   "version": "3.8.2"
  }
 },
 "nbformat": 4,
 "nbformat_minor": 4
}
