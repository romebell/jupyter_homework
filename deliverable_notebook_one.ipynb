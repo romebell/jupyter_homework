{
 "cells": [
  {
   "cell_type": "markdown",
   "metadata": {},
   "source": [
    "# Hangman Challenge\n",
    "\n",
    "You will be building the classic hangman game in Python. In hangman, a secret word is chosen and the user tries to guess each letter. Each correct guess reveals all instances of that letter. Each incorrect guess draws another body part on the poor guy getting hanged. The user wins if they reveal the entire word. They lose if the whole person is drawn on the noose."
   ]
  },
  {
   "cell_type": "code",
   "execution_count": 6,
   "metadata": {},
   "outputs": [],
   "source": [
    "import random"
   ]
  },
  {
   "cell_type": "code",
   "execution_count": 4,
   "metadata": {},
   "outputs": [],
   "source": [
    "import time"
   ]
  },
  {
   "cell_type": "code",
   "execution_count": 5,
   "metadata": {},
   "outputs": [
    {
     "name": "stdout",
     "output_type": "stream",
     "text": [
      "What is your name? levin\n",
      "Hello, levin Time to play hangman!\n",
      "\n",
      "Start guessing...\n"
     ]
    }
   ],
   "source": [
    "words = ('apple', 'banana', 'orange', 'mississippi', 'washington')\n",
    "name = input(\"What is your name? \")\n",
    "print(\"Hello, \" + name, \"Time to play hangman!\")\n",
    "print(\"\")\n",
    "time.sleep(1)\n",
    "print(\"Start guessing...\")\n",
    "time.sleep(0.5)\n",
    "random_word = random.choice(words)\n",
    "ls =[]"
   ]
  },
  {
   "cell_type": "code",
   "execution_count": 7,
   "metadata": {},
   "outputs": [],
   "source": [
    "# defining a function for words to display and words with underscores"
   ]
  },
  {
   "cell_type": "code",
   "execution_count": 8,
   "metadata": {},
   "outputs": [
    {
     "name": "stdout",
     "output_type": "stream",
     "text": [
      "_____\n"
     ]
    }
   ],
   "source": [
    "def display_word():\n",
    "    display = \"\"\n",
    "    for i in random_word:\n",
    "        letter = i\n",
    "        if letter in ls:\n",
    "            display += letter\n",
    "        else:\n",
    "            display += '_'\n",
    "    print(display)\n",
    "\n",
    "display_word()"
   ]
  },
  {
   "cell_type": "code",
   "execution_count": null,
   "metadata": {},
   "outputs": [],
   "source": [
    "#  defining a function with a guess letters"
   ]
  }
 ],
 "metadata": {
  "kernelspec": {
   "display_name": "Python 3",
   "language": "python",
   "name": "python3"
  },
  "language_info": {
   "codemirror_mode": {
    "name": "ipython",
    "version": 3
   },
   "file_extension": ".py",
   "mimetype": "text/x-python",
   "name": "python",
   "nbconvert_exporter": "python",
   "pygments_lexer": "ipython3",
   "version": "3.8.5"
  }
 },
 "nbformat": 4,
 "nbformat_minor": 4
}
